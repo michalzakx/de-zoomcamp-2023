{
 "cells": [
  {
   "attachments": {},
   "cell_type": "markdown",
   "metadata": {},
   "source": [
    "## Homework\n",
    "\n",
    "This notebook contains solutions for the [week 3 assignments](https://github.com/DataTalksClub/data-engineering-zoomcamp/tree/main/week_3_data_warehouse)."
   ]
  },
  {
   "attachments": {},
   "cell_type": "markdown",
   "metadata": {},
   "source": [
    "**Setup**\n",
    "\n",
    "* Create an external table using the FHV tripdata from year 2019.\n",
    "* Create a table in BigQuery using the FHV tripdata from year 2019 (do not partition nor cluster this table).\n",
    "\n",
    "Answer:\n",
    "``` mysql\n",
    "-- Create an external table using the FHV tripdata from year 2019\n",
    "CREATE OR REPLACE EXTERNAL TABLE `dogwood-boulder-375109.nyc_tlc_trips.external_fhv_tripdata`\n",
    "OPTIONS (\n",
    "  format = 'CSV',\n",
    "  uris = ['gs://data-lake-dogwood-boulder-375109/fhv/*.csv.gz']\n",
    ");\n",
    "\n",
    "-- Create a table in BigQuery using the FHV tripdata from year 2019\n",
    "CREATE OR REPLACE TABLE `dogwood-boulder-375109.nyc_tlc_trips.fhv_tripdata` AS\n",
    "SELECT * FROM `dogwood-boulder-375109.nyc_tlc_trips.external_fhv_tripdata`;\n",
    "```"
   ]
  },
  {
   "attachments": {},
   "cell_type": "markdown",
   "metadata": {},
   "source": [
    "**Question 1. What is the count for the FHV tripdata records for year 2019?**\n",
    "\n",
    "Answer:\n",
    "\n",
    "We can just check it in the \"DETAILS\" section of the table metadata. Alternatively, we can run a query like:\n",
    "\n",
    "    SELECT     COUNT(*) AS n_rows\n",
    "    FROM       `dogwood-boulder-375109.nyc_tlc_trips.fhv_tripdata`;"
   ]
  },
  {
   "attachments": {},
   "cell_type": "markdown",
   "metadata": {},
   "source": [
    "**Question 2. Write a query to count the number of distinct values in *affiliated_base_number* column for the entire dataset on both the tables. What is the estimated amount of data that will be read when this query is executed on the External Table and the Table?**\n",
    "\n",
    "Answer:\n",
    "\n",
    "We can get the answer by highlighting (selecting) the respective queries - estimated amount of data that will be processed by BigQuery is displayed in the top right corner of the query editor.\n",
    "\n",
    "    -- Number of distinct values in the 'Affiliated_base_number' column\n",
    "    SELECT     COUNT(DISTINCT(Affiliated_base_number))\n",
    "    FROM       `dogwood-boulder-375109.nyc_tlc_trips.external_fhv_tripdata`;\n",
    "\n",
    "    SELECT     COUNT(DISTINCT(Affiliated_base_number))\n",
    "    FROM       `dogwood-boulder-375109.nyc_tlc_trips.fhv_tripdata`;"
   ]
  },
  {
   "attachments": {},
   "cell_type": "markdown",
   "metadata": {},
   "source": [
    "**Question 3. How many records have both NULL *PUlocationID* and *DOlocationID* in the entire dataset?**\n",
    "\n",
    "Answer:\n",
    "\n",
    "    -- Number of records with NULL both 'PUlocationID' and 'DOlocationID'\n",
    "    SELECT     COUNT(*) AS n_rows\n",
    "    FROM       `dogwood-boulder-375109.nyc_tlc_trips.fhv_tripdata`\n",
    "    WHERE      PUlocationID IS NULL\n",
    "               AND DOlocationID IS NULL;"
   ]
  },
  {
   "attachments": {},
   "cell_type": "markdown",
   "metadata": {},
   "source": [
    "**Question 4. What is the best strategy to optimize the table if query will always filter by *pickup_datetime* and order by *affiliated_base_number*?**\n",
    "\n",
    "**Question 5. Implement the optimized solution you chose for question 4. Write a query to retrieve the distinct *affiliated_base_number* between 2019-03-01 and 2019-03-31 (inclusive, based on *pickup_datetime*).\n",
    "\n",
    "Use the non-partitioned BigQuery table you have created earlier abd note the estimated amount of data that will be processed. Now do the same using the partitioned table. What are those values?**\n",
    "\n",
    "Answer:\n",
    "\n",
    "    -- Create a table in BigQuery using the FHV data from year 2019.\n",
    "    -- Partition by  'pickup_datetime' and cluster by 'Affiliated_base_number'\n",
    "    CREATE OR REPLACE TABLE `dogwood-boulder-375109.nyc_tlc_trips.partitioned_fhv_tripdata`\n",
    "    PARTITION BY DATE(pickup_datetime)\n",
    "    CLUSTER BY Affiliated_base_number\n",
    "    AS \n",
    "    SELECT * FROM `dogwood-boulder-375109.nyc_tlc_trips.fhv_tripdata`;\n",
    "\n",
    "    -- Distinct values in the 'Affiliated_base_number' column between 2019-03-01 and 2019-03-31 (inclusive, based on 'pickup_datetime')\n",
    "    SELECT     DISTINCT(Affiliated_base_number) AS unique_affiliated_base_numbers\n",
    "    FROM       `dogwood-boulder-375109.nyc_tlc_trips.fhv_tripdata`\n",
    "    WHERE      pickup_datetime >= '2019-03-01'\n",
    "               AND pickup_datetime < '2019-04-01';\n",
    "\n",
    "    SELECT     DISTINCT(Affiliated_base_number) AS unique_affiliated_base_numbers\n",
    "    FROM       `dogwood-boulder-375109.nyc_tlc_trips.partitioned_fhv_tripdata`\n",
    "    WHERE      pickup_datetime >= '2019-03-01'\n",
    "               AND pickup_datetime < '2019-04-01';"
   ]
  },
  {
   "attachments": {},
   "cell_type": "markdown",
   "metadata": {},
   "source": [
    "**Question 6. Where is the data stored in the External Table you have created?**\n",
    "\n",
    "**Question 7. Is it true, that you should always cluster your data in BigQuery?**\n"
   ]
  }
 ],
 "metadata": {
  "kernelspec": {
   "display_name": "env_de",
   "language": "python",
   "name": "python3"
  },
  "language_info": {
   "name": "python",
   "version": "3.10.9"
  },
  "orig_nbformat": 4,
  "vscode": {
   "interpreter": {
    "hash": "17b6e26ac598d1945e73417e63c3dcb777c782c9a1511aa70092e7a5a3cb1848"
   }
  }
 },
 "nbformat": 4,
 "nbformat_minor": 2
}
